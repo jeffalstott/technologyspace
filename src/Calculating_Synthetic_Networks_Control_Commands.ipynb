{
 "cells": [
  {
   "cell_type": "code",
   "execution_count": null,
   "metadata": {
    "collapsed": true
   },
   "outputs": [],
   "source": [
    "# python_location = '/home/jeffrey_alstott/anaconda3/bin/python'"
   ]
  },
  {
   "cell_type": "code",
   "execution_count": 6,
   "metadata": {
    "collapsed": true
   },
   "outputs": [],
   "source": [
    "# class_system = 'IPC4'"
   ]
  },
  {
   "cell_type": "code",
   "execution_count": 8,
   "metadata": {
    "collapsed": false
   },
   "outputs": [],
   "source": [
    "# basic_program = open('Calculating_Citation_Networks.py', 'r').read()\n",
    "# basic_program = open('Calculating_CoOccurrence_Networks.py', 'r').read()"
   ]
  },
  {
   "cell_type": "code",
   "execution_count": 9,
   "metadata": {
    "collapsed": true
   },
   "outputs": [],
   "source": [
    "# data_directory = '../data/'\n",
    "# job_type = 'citations'\n",
    "# job_type = 'cooccurrence'\n",
    "# entity = 'Firm'\n",
    "job_label = job_type\n",
    "\n",
    "try:\n",
    "    job_label += '_'+entity\n",
    "except NameError:\n",
    "    pass"
   ]
  },
  {
   "cell_type": "code",
   "execution_count": 16,
   "metadata": {
    "collapsed": false
   },
   "outputs": [],
   "source": [
    "# first_rand_id = None\n",
    "# n_randomizations = 1000\n",
    "\n",
    "if overwrite:\n",
    "    runs = range(first_rand_id,first_rand_id+n_randomizations)\n",
    "else:\n",
    "    from os import listdir\n",
    "    dirlist = listdir(data_directory+'Class_Relatedness_Networks/%s/controls/%s/'%(job_type,class_system))\n",
    "    from pylab import *\n",
    "    unrun_iterations = ones(n_randomizations)\n",
    "\n",
    "    for f in dirlist:\n",
    "        if f.startswith('synthetic_control'):\n",
    "            n = int(f.split('_')[-1][:-3])\n",
    "            unrun_iterations[n] = 0\n",
    "\n",
    "    unrun_iterations = where(unrun_iterations)[0]\n",
    "\n",
    "    runs = unrun_iterations"
   ]
  },
  {
   "cell_type": "code",
   "execution_count": 12,
   "metadata": {
    "collapsed": false
   },
   "outputs": [
    {
     "ename": "NameError",
     "evalue": "name 'first_rand_id' is not defined",
     "output_type": "error",
     "traceback": [
      "\u001b[1;31m---------------------------------------------------------------------------\u001b[0m",
      "\u001b[1;31mNameError\u001b[0m                                 Traceback (most recent call last)",
      "\u001b[1;32m<ipython-input-12-cda44384d6ec>\u001b[0m in \u001b[0;36m<module>\u001b[1;34m()\u001b[0m\n\u001b[1;32m----> 1\u001b[1;33m \u001b[0mruns\u001b[0m \u001b[1;33m=\u001b[0m \u001b[0mrange\u001b[0m\u001b[1;33m(\u001b[0m\u001b[0mfirst_rand_id\u001b[0m\u001b[1;33m,\u001b[0m\u001b[0mfirst_rand_id\u001b[0m\u001b[1;33m+\u001b[0m\u001b[0mn_randomizations\u001b[0m\u001b[1;33m)\u001b[0m\u001b[1;33m\u001b[0m\u001b[0m\n\u001b[0m\u001b[0;32m      2\u001b[0m \u001b[0mruns\u001b[0m \u001b[1;33m=\u001b[0m \u001b[0munrun_iterations\u001b[0m\u001b[1;33m\u001b[0m\u001b[0m\n\u001b[0;32m      3\u001b[0m \u001b[1;32mfor\u001b[0m \u001b[0mrandomization_id\u001b[0m \u001b[1;32min\u001b[0m \u001b[0mruns\u001b[0m\u001b[1;33m:\u001b[0m\u001b[1;33m\u001b[0m\u001b[0m\n\u001b[0;32m      4\u001b[0m     \u001b[1;31m##PBS -V\u001b[0m\u001b[1;33m\u001b[0m\u001b[1;33m\u001b[0m\u001b[0m\n\u001b[0;32m      5\u001b[0m     header = \"\"\"#!/home/jeffrey_alstott/anaconda3/bin/python\n",
      "\u001b[1;31mNameError\u001b[0m: name 'first_rand_id' is not defined"
     ]
    }
   ],
   "source": [
    "from os import system\n",
    "\n",
    "for randomization_id in runs:\n",
    "    header = \"\"\"#!{3}\n",
    "#PBS -l nodes=1:ppn=1\n",
    "#PBS -l walltime=3:00:00\n",
    "#PBS -l mem=20000m\n",
    "#PBS -N rand_{0}_{1}_{2}\n",
    "\n",
    "randomization_id = {0}\n",
    "print(\"Randomization number: %i\"%randomization_id)\n",
    "\"\"\".format(randomization_id, class_system, job_label, python_location)\n",
    "\n",
    "#     options = \"\"\"\n",
    "#     class_system = '{1}'\n",
    "# target_years = 'all'\n",
    "# n_years = 'all'\n",
    "\n",
    "# data_directory = '{3}'\n",
    "# randomized_control = True\n",
    "# n_years = None\n",
    "# # preserve_years = True\n",
    "# # chain = False\n",
    "\n",
    "# # occurrence_data = 'occurrences_organized.h5'\n",
    "# # entity_data = 'entity_classes_Firm'\n",
    "# # entity_column = 'Firm'\n",
    "# # occurrence_data = 'classifications_organized.h5'\n",
    "# # entity_data = 'patent_classes'\n",
    "# # entity_column = 'PID'\n",
    "# # print(occurrence_data)\n",
    "# # print(entity_data)\n",
    "# # print(entity_column)\n",
    "# \"\"\"\n",
    "    this_program = header+options+basic_program\n",
    "\n",
    "    this_job_file = 'jobfiles/randomization_{0}_{1}_{2}.py'.format(randomization_id, class_system, job_label)\n",
    "\n",
    "\n",
    "    f = open(this_job_file, 'w')\n",
    "    f.write(this_program)\n",
    "    f.close()\n",
    "\n",
    "    system('qsub '+this_job_file)"
   ]
  }
 ],
 "metadata": {
  "css": [
   ""
  ],
  "kernelspec": {
   "display_name": "Python 3",
   "language": "python",
   "name": "python3"
  },
  "language_info": {
   "codemirror_mode": {
    "name": "ipython",
    "version": 3
   },
   "file_extension": ".py",
   "mimetype": "text/x-python",
   "name": "python",
   "nbconvert_exporter": "python",
   "pygments_lexer": "ipython3",
   "version": "3.4.3"
  }
 },
 "nbformat": 4,
 "nbformat_minor": 0
}
