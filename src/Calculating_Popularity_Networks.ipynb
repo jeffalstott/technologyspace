{
 "cells": [
  {
   "cell_type": "code",
   "execution_count": 1,
   "metadata": {
    "collapsed": false
   },
   "outputs": [
    {
     "name": "stdout",
     "output_type": "stream",
     "text": [
      "Populating the interactive namespace from numpy and matplotlib\n"
     ]
    }
   ],
   "source": [
    "# import pandas as pd\n",
    "# %pylab inline"
   ]
  },
  {
   "cell_type": "code",
   "execution_count": 5,
   "metadata": {
    "collapsed": true
   },
   "outputs": [],
   "source": [
    "# data_directory = '../data/'\n",
    "# class_systems = ['IPC', 'IPC4']\n",
    "# all_n_years = ['all', 1, 5]\n",
    "\n",
    "def create_n_years_label(n_years):\n",
    "    if n_years is None or n_years=='all' or n_years=='cumulative':\n",
    "        n_years_label = ''\n",
    "    else:\n",
    "        n_years_label = '%i_years_'%n_years\n",
    "    return n_years_label"
   ]
  },
  {
   "cell_type": "code",
   "execution_count": 85,
   "metadata": {
    "collapsed": true
   },
   "outputs": [],
   "source": [
    "store_counts = pd.HDFStore(data_directory+'popularity_counts.h5')\n",
    "store_networks = pd.HDFStore(data_directory+'popularity_networks.h5')"
   ]
  },
  {
   "cell_type": "code",
   "execution_count": 4,
   "metadata": {
    "collapsed": true
   },
   "outputs": [],
   "source": [
    "all_inventorships = pd.read_csv(data_directory+'disamb_data_ipc_citations_2.csv')\n",
    "all_inventorships.rename(columns={'IPC3': 'IPC'}, inplace=True)"
   ]
  },
  {
   "cell_type": "code",
   "execution_count": 111,
   "metadata": {
    "collapsed": false
   },
   "outputs": [
    {
     "name": "stderr",
     "output_type": "stream",
     "text": [
      "/home/jeffrey_alstott/anaconda3/lib/python3.4/site-packages/pandas/core/frame.py:2524: SettingWithCopyWarning: \n",
      "A value is trying to be set on a copy of a slice from a DataFrame\n",
      "\n",
      "See the the caveats in the documentation: http://pandas.pydata.org/pandas-docs/stable/indexing.html#indexing-view-versus-copy\n",
      "  **kwargs)\n",
      "/home/jeffrey_alstott/anaconda3/lib/python3.4/site-packages/pandas/util/decorators.py:88: SettingWithCopyWarning: \n",
      "A value is trying to be set on a copy of a slice from a DataFrame\n",
      "\n",
      "See the the caveats in the documentation: http://pandas.pydata.org/pandas-docs/stable/indexing.html#indexing-view-versus-copy\n",
      "  return func(*args, **kwargs)\n"
     ]
    },
    {
     "name": "stdout",
     "output_type": "stream",
     "text": [
      "IPC\n",
      "all\n",
      "1\n",
      "5\n",
      "IPC4\n",
      "all\n",
      "1\n",
      "5\n"
     ]
    },
    {
     "name": "stderr",
     "output_type": "stream",
     "text": [
      "/home/jeffrey_alstott/anaconda3/lib/python3.4/site-packages/IPython/kernel/__main__.py:17: SettingWithCopyWarning: \n",
      "A value is trying to be set on a copy of a slice from a DataFrame\n",
      "\n",
      "See the the caveats in the documentation: http://pandas.pydata.org/pandas-docs/stable/indexing.html#indexing-view-versus-copy\n"
     ]
    }
   ],
   "source": [
    "popularity_count_of = 'patent'\n",
    "\n",
    "for class_system in class_systems:\n",
    "    print(class_system)\n",
    "    \n",
    "    data = all_inventorships[['PID',\n",
    "                          class_system, 'GYEAR']]\n",
    "\n",
    "    data.rename(columns={'PID': 'patent',\n",
    "                         class_system: 'Class',\n",
    "                        'GYEAR': 'Year'},\n",
    "                inplace=True)\n",
    "\n",
    "    data.drop_duplicates([popularity_count_of], inplace=True)\n",
    "    #         class_lookup = pd.read_hdf(data_directory+'class_lookup_tables.h5', '%s_class_lookup'%class_system)\n",
    "    #         data['Class'] = class_lookup.ix[data['Class']].values\n",
    "    data.dropna(inplace=True)\n",
    "\n",
    "    class_size = data.groupby(['Class', 'Year']).count().reset_index().sort('Year').set_index(['Class', 'Year'])\n",
    "    class_size = class_size.reindex(pd.MultiIndex.from_product([sort(data['Class'].unique()), \n",
    "                                                                sort(data['Year'].unique())],\n",
    "                                                              names=['Class', 'Year'])).fillna(0)\n",
    "    class_size_cumulative = class_size.groupby(level='Class')[popularity_count_of].cumsum()\n",
    "\n",
    "#     for n_years in all_n_years:\n",
    "#         print(n_years)\n",
    "\n",
    "    if n_years is None or n_years=='all' or n_years=='cumulative':\n",
    "        this_class_size = class_size_cumulative\n",
    "    else:\n",
    "        this_class_size = class_size.groupby(level='Class').apply(lambda x: \n",
    "                                                                  pd.rolling_sum(x, n_years))\n",
    "        this_class_size[popularity_count_of].fillna(class_size_cumulative, inplace=True)\n",
    "\n",
    "    this_class_size.name = popularity_count_of\n",
    "    this_class_size = pd.DataFrame(this_class_size.sort_index())\n",
    "\n",
    "    store_counts['%s_count_%s%s'%(popularity_count_of, \n",
    "                            create_n_years_label(n_years), \n",
    "                            class_system)] = this_class_size\n",
    "\n",
    "    patent_count_links = pd.Panel(items=this_class_size.index.levels[1],\n",
    "                             major_axis=this_class_size.index.levels[0],\n",
    "                             minor_axis=this_class_size.index.levels[0]\n",
    "                             )\n",
    "    for g in this_class_size.groupby(level='Year'):\n",
    "        patent_count_links.ix[g[0]] = outer(g[1].values, g[1].values)\n",
    "    store_networks['%s_count_%s%s'%(popularity_count_of, \n",
    "                            create_n_years_label(n_years), \n",
    "                            class_system)] = patent_count_links"
   ]
  },
  {
   "cell_type": "code",
   "execution_count": 112,
   "metadata": {
    "collapsed": false
   },
   "outputs": [
    {
     "name": "stderr",
     "output_type": "stream",
     "text": [
      "/home/jeffrey_alstott/anaconda3/lib/python3.4/site-packages/pandas/core/frame.py:2524: SettingWithCopyWarning: \n",
      "A value is trying to be set on a copy of a slice from a DataFrame\n",
      "\n",
      "See the the caveats in the documentation: http://pandas.pydata.org/pandas-docs/stable/indexing.html#indexing-view-versus-copy\n",
      "  **kwargs)\n",
      "/home/jeffrey_alstott/anaconda3/lib/python3.4/site-packages/pandas/util/decorators.py:88: SettingWithCopyWarning: \n",
      "A value is trying to be set on a copy of a slice from a DataFrame\n",
      "\n",
      "See the the caveats in the documentation: http://pandas.pydata.org/pandas-docs/stable/indexing.html#indexing-view-versus-copy\n",
      "  return func(*args, **kwargs)\n"
     ]
    },
    {
     "name": "stdout",
     "output_type": "stream",
     "text": [
      "IPC\n",
      "all\n",
      "1\n",
      "5\n",
      "IPC4\n",
      "all\n",
      "1\n",
      "5\n"
     ]
    },
    {
     "name": "stderr",
     "output_type": "stream",
     "text": [
      "/home/jeffrey_alstott/anaconda3/lib/python3.4/site-packages/IPython/kernel/__main__.py:17: SettingWithCopyWarning: \n",
      "A value is trying to be set on a copy of a slice from a DataFrame\n",
      "\n",
      "See the the caveats in the documentation: http://pandas.pydata.org/pandas-docs/stable/indexing.html#indexing-view-versus-copy\n"
     ]
    }
   ],
   "source": [
    "all_inventorships.sort('GYEAR', inplace=True)\n",
    "\n",
    "popularity_count_of = 'inventor'\n",
    "\n",
    "for class_system in class_systems:\n",
    "    print(class_system)\n",
    "    data = all_inventorships[['INVENTOR_ID', class_system, 'GYEAR']]\n",
    "\n",
    "    data.rename(columns={'INVENTOR_ID': 'inventor',\n",
    "                         class_system: 'Class',\n",
    "                        'GYEAR': 'Year'},\n",
    "                inplace=True)\n",
    "\n",
    "    data.drop_duplicates([popularity_count_of], inplace=True)\n",
    "    #         class_lookup = pd.read_hdf(data_directory+'class_lookup_tables.h5', '%s_class_lookup'%class_system)\n",
    "    #         data['Class'] = class_lookup.ix[data['Class']].values\n",
    "    data.dropna(inplace=True)\n",
    "\n",
    "    class_size = data.groupby(['Class', 'Year']).count().reset_index().sort('Year').set_index(['Class', 'Year'])\n",
    "    class_size = class_size.reindex(pd.MultiIndex.from_product([sort(data['Class'].unique()), \n",
    "                                                                sort(data['Year'].unique())],\n",
    "                                                              names=['Class', 'Year'])).fillna(0)\n",
    "    class_size_cumulative = class_size.groupby(level='Class')[popularity_count_of].cumsum()\n",
    "\n",
    "#     for n_years in all_n_years:\n",
    "#         print(n_years)\n",
    "\n",
    "    if n_years is None or n_years=='all' or n_years=='cumulative':\n",
    "        this_class_size = class_size_cumulative\n",
    "    else:\n",
    "        this_class_size = class_size.groupby(level='Class').apply(lambda x: \n",
    "                                                                  pd.rolling_sum(x, n_years))\n",
    "        this_class_size[popularity_count_of].fillna(class_size_cumulative, inplace=True)\n",
    "\n",
    "    this_class_size.name = popularity_count_of\n",
    "    this_class_size = pd.DataFrame(this_class_size.sort_index())\n",
    "\n",
    "    store_counts['new_%s_count_%s%s'%(popularity_count_of, \n",
    "                            create_n_years_label(n_years), \n",
    "                            class_system)] = this_class_size\n",
    "\n",
    "    patent_count_links = pd.Panel(items=this_class_size.index.levels[1],\n",
    "                             major_axis=this_class_size.index.levels[0],\n",
    "                             minor_axis=this_class_size.index.levels[0]\n",
    "                             )\n",
    "    for g in this_class_size.groupby(level='Year'):\n",
    "        patent_count_links.ix[g[0]] = outer(g[1].values, g[1].values)\n",
    "    store_networks['new_%s_count_%s%s'%(popularity_count_of, \n",
    "                            create_n_years_label(n_years), \n",
    "                            class_system)] = patent_count_links"
   ]
  },
  {
   "cell_type": "code",
   "execution_count": 113,
   "metadata": {
    "collapsed": true
   },
   "outputs": [],
   "source": [
    "store_counts.close()\n",
    "store_networks.close()"
   ]
  }
 ],
 "metadata": {
  "css": [
   ""
  ],
  "kernelspec": {
   "display_name": "Python 3",
   "language": "python",
   "name": "python3"
  },
  "language_info": {
   "codemirror_mode": {
    "name": "ipython",
    "version": 3
   },
   "file_extension": ".py",
   "mimetype": "text/x-python",
   "name": "python",
   "nbconvert_exporter": "python",
   "pygments_lexer": "ipython3",
   "version": "3.4.3"
  }
 },
 "nbformat": 4,
 "nbformat_minor": 0
}
