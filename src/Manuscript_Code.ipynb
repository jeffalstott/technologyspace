{
 "cells": [
  {
   "cell_type": "code",
   "execution_count": 2,
   "metadata": {
    "collapsed": false
   },
   "outputs": [
    {
     "name": "stdout",
     "output_type": "stream",
     "text": [
      "Populating the interactive namespace from numpy and matplotlib\n"
     ]
    }
   ],
   "source": [
    "import pandas as pd\n",
    "%pylab inline"
   ]
  },
  {
   "cell_type": "code",
   "execution_count": 3,
   "metadata": {
    "collapsed": true
   },
   "outputs": [],
   "source": [
    "data_directory = '../data/'"
   ]
  },
  {
   "cell_type": "code",
   "execution_count": 4,
   "metadata": {
    "collapsed": false
   },
   "outputs": [],
   "source": [
    "import os\n",
    "def try_to_make_directory(f):\n",
    "    try:\n",
    "        os.makedirs(f)\n",
    "    except OSError:\n",
    "        pass"
   ]
  },
  {
   "cell_type": "markdown",
   "metadata": {},
   "source": [
    "Organize data for citations, co-classifications and occurrences\n",
    "==="
   ]
  },
  {
   "cell_type": "code",
   "execution_count": null,
   "metadata": {
    "collapsed": true
   },
   "outputs": [],
   "source": [
    "# print(\"Organizing Citations\")\n",
    "# %run -i Organize_Citations.py"
   ]
  },
  {
   "cell_type": "code",
   "execution_count": 4,
   "metadata": {
    "collapsed": false
   },
   "outputs": [
    {
     "name": "stdout",
     "output_type": "stream",
     "text": [
      "Organizing Classifications\n",
      "Populating the interactive namespace from numpy and matplotlib\n"
     ]
    }
   ],
   "source": [
    "# print(\"Organizing Classifications\")\n",
    "# %run -i Organize_Classifications.py"
   ]
  },
  {
   "cell_type": "code",
   "execution_count": 4,
   "metadata": {
    "collapsed": false,
    "scrolled": true
   },
   "outputs": [
    {
     "name": "stdout",
     "output_type": "stream",
     "text": [
      "Organizing Occurrences\n",
      "Populating the interactive namespace from numpy and matplotlib\n",
      "Writing Country_IPC4\n",
      "Writing Firm_IPC\n",
      "Writing Firm_USPC\n",
      "Writing Country_IPC\n",
      "Writing Inventor_USPC\n",
      "Writing Firm_IPC4\n",
      "Writing Inventor_IPC4\n",
      "Writing Inventor_IPC\n",
      "Writing Country_USPC\n"
     ]
    }
   ],
   "source": [
    "# print(\"Organizing Occurrences\")\n",
    "# %run -i Organize_Occurrences.py"
   ]
  },
  {
   "cell_type": "markdown",
   "metadata": {},
   "source": [
    "Define parameters\n",
    "==="
   ]
  },
  {
   "cell_type": "markdown",
   "metadata": {},
   "source": [
    "Define classes and entities to analyze\n",
    "---"
   ]
  },
  {
   "cell_type": "code",
   "execution_count": 1,
   "metadata": {
    "collapsed": true
   },
   "outputs": [],
   "source": [
    "class_systems = ['IPC4']#, IPC', 'USPC',]\n",
    "occurrence_entities = {'Firm': ('occurrences_organized.h5', 'entity_classes_Firm'),\n",
    "                       'Inventor': ('occurrences_organized.h5', 'entity_classes_Inventor'),\n",
    "                       'Country': ('occurrences_organized.h5', 'entity_classes_Country'),\n",
    "                       'PID': ('classifications_organized.h5', 'patent_classes'),\n",
    "                       }\n",
    "entity_types = list(occurrence_entities.keys())"
   ]
  },
  {
   "cell_type": "markdown",
   "metadata": {},
   "source": [
    "Define what years to calculate networks for\n",
    "---"
   ]
  },
  {
   "cell_type": "code",
   "execution_count": 5,
   "metadata": {
    "collapsed": true
   },
   "outputs": [],
   "source": [
    "target_years = [2010]"
   ]
  },
  {
   "cell_type": "markdown",
   "metadata": {},
   "source": [
    "Define number of years of history networks should include\n",
    "---"
   ]
  },
  {
   "cell_type": "code",
   "execution_count": 6,
   "metadata": {
    "collapsed": true
   },
   "outputs": [],
   "source": [
    "n_years = 'all'\n",
    "\n",
    "if n_years is None or n_years=='all' or n_years=='cumulative':\n",
    "    n_years_label = ''\n",
    "else:\n",
    "    n_years_label = '%i_years_'%n_years"
   ]
  },
  {
   "cell_type": "code",
   "execution_count": 8,
   "metadata": {
    "collapsed": true
   },
   "outputs": [],
   "source": [
    "citation_metrics = ['Class_Cites_Class_Count',\n",
    "                    'Class_Cited_by_Class_Count',\n",
    "                   'Class_Cites_Class_Input_Cosine_Similarity',\n",
    "                   'Class_Cites_Class_Output_Cosine_Similarity',\n",
    "                   'Class_Cites_Patent_Input_Cosine_Similarity',\n",
    "                   'Patent_Cites_Class_Output_Cosine_Similarity',\n",
    "                   'Class_CoCitation_Count']"
   ]
  },
  {
   "cell_type": "markdown",
   "metadata": {},
   "source": [
    "Calculate empirical networks\n",
    "==="
   ]
  },
  {
   "cell_type": "code",
   "execution_count": 9,
   "metadata": {
    "collapsed": false
   },
   "outputs": [],
   "source": [
    "try_to_make_directory(data_directory+'Class_Relatedness_Networks/')\n",
    "try_to_make_directory(data_directory+'Class_Relatedness_Networks/citations/')\n",
    "try_to_make_directory(data_directory+'Class_Relatedness_Networks/cooccurrence/')"
   ]
  },
  {
   "cell_type": "code",
   "execution_count": 10,
   "metadata": {
    "collapsed": false
   },
   "outputs": [
    {
     "name": "stdout",
     "output_type": "stream",
     "text": [
      "Calculating for IPC4------\n",
      "2010\n",
      "Class_CoCitation_Count\n",
      "6.50 sec\n",
      "3.59 sec\n",
      "Class_Cites_Class_Count\n",
      "Class_Cited_by_Class_Count\n",
      "Class_Cites_Class_Input_Cosine_Similarity\n",
      "0.17 sec\n",
      "Class_Cites_Class_Output_Cosine_Similarity\n",
      "0.18 sec\n",
      "10.28 sec\n",
      "Class_Cites_Patent_Input_Cosine_Similarity\n",
      "2.45 sec\n",
      "14.26 sec\n",
      "Patent_Cites_Class_Output_Cosine_Similarity\n",
      "2.65 sec\n",
      "Time until calculations are done: 59.23\n",
      "Total runtime: 60.93\n",
      "Firm\n",
      "Inventor\n",
      "PID\n",
      "Country\n"
     ]
    }
   ],
   "source": [
    "### Create empirical networks\n",
    "randomized_control = False\n",
    "\n",
    "for class_system in class_systems:\n",
    "    print(\"Calculating for %s------\"%class_system)\n",
    "    ### Calculate citation networks\n",
    "    %run -i Calculating_Citation_Networks.py\n",
    "    all_networks = networks\n",
    "    \n",
    "    ### Calculate co-occurrence networks\n",
    "    preverse_years = True\n",
    "    for entity_column in entity_types:\n",
    "        print(entity_column)\n",
    "        occurrence_data, entity_data = occurrence_entities[entity_column]\n",
    "        %run -i Calculating_CoOccurrence_Networks.py\n",
    "        all_networks.ix['Class_CoOccurrence_Count_%s'%entity_column] = networks\n",
    "    \n",
    "    ind = ['Class_CoOccurrence_Count_%s'%entity for entity in entity_types]\n",
    "    store = pd.HDFStore(data_directory+'Class_Relatedness_Networks/cooccurrence/class_relatedness_networks_cooccurrence.h5', \n",
    "                    mode='a', table=True)\n",
    "    store.put('/empirical_cooccurrence_%s%s'%(n_years_label,class_system), all_networks.ix[ind], 'table', append=False)\n",
    "    store.close()\n",
    "    \n",
    "    #### Combine them both\n",
    "    store = pd.HDFStore(data_directory+'Class_Relatedness_Networks/class_relatedness_networks.h5', \n",
    "                        mode='a', table=True)\n",
    "    store.put('/empirical_'+n_years_label+class_system, all_networks, 'table', append=False)\n",
    "    store.close()"
   ]
  },
  {
   "cell_type": "markdown",
   "metadata": {},
   "source": [
    "Calculate randomized networks\n",
    "===="
   ]
  },
  {
   "cell_type": "markdown",
   "metadata": {},
   "source": [
    "Make directories\n",
    "---"
   ]
  },
  {
   "cell_type": "code",
   "execution_count": 13,
   "metadata": {
    "collapsed": false
   },
   "outputs": [],
   "source": [
    "try_to_make_directory(data_directory+'Class_Relatedness_Networks/citations/controls/')\n",
    "try_to_make_directory(data_directory+'Class_Relatedness_Networks/cooccurrence/controls/')"
   ]
  },
  {
   "cell_type": "markdown",
   "metadata": {},
   "source": [
    "Run randomizations\n",
    "---\n",
    "(Currently set up to use a cluster)"
   ]
  },
  {
   "cell_type": "code",
   "execution_count": 14,
   "metadata": {
    "collapsed": false
   },
   "outputs": [],
   "source": [
    "first_rand_id = 0\n",
    "n_randomizations = 1000\n",
    "\n",
    "python_location = '/home/jeffrey_alstott/anaconda3/bin/python'\n",
    "from os import path\n",
    "abs_path_data_directory = path.abspath(data_directory)+'/'\n",
    "\n",
    "\n",
    "try_to_make_directory('jobfiles/')\n",
    "\n",
    "for class_system in class_systems:\n",
    "    ### Citations\n",
    "    try_to_make_directory(data_directory+'Class_Relatedness_Networks/citations/controls/'+class_system)\n",
    "    basic_program = open('Calculating_Citation_Networks.py', 'r').read()\n",
    "    job_type = 'citations'\n",
    "    options=\"\"\"class_system = %r\n",
    "target_years = %r\n",
    "n_years = %r\n",
    "data_directory = %r\n",
    "randomized_control = True\n",
    "citation_metrics = %r\n",
    "\"\"\"%(class_system, target_years, n_years, abs_path_data_directory, citation_metrics)\n",
    "    \n",
    "    %run -i Calculating_Synthetic_Networks_Control_Commands\n",
    "\n",
    "    ### Co-occurrences\n",
    "    try_to_make_directory(data_directory+'Class_Relatedness_Networks/cooccurrence/controls/'+class_system)\n",
    "    basic_program = open('Calculating_CoOccurrence_Networks.py', 'r').read()\n",
    "    job_type = 'cooccurrence'\n",
    "    for entity in entity_types:\n",
    "        occurrence_data, entity_data = occurrence_entities[entity]\n",
    "        options = \"\"\"class_system = %r\n",
    "target_years = %r\n",
    "n_years = %r\n",
    "data_directory = %r\n",
    "randomized_control = True\n",
    "preserve_years = True\n",
    "chain = False\n",
    "occurrence_data = %r\n",
    "entity_data = %r\n",
    "entity_column = %r\n",
    "print(occurrence_data)\n",
    "print(entity_data)\n",
    "print(entity_column)\n",
    "\"\"\"%(class_system, target_years, n_years, abs_path_data_directory, occurrence_data, entity_data, entity)\n",
    "    \n",
    "        %run -i Calculating_Synthetic_Networks_Control_Commands"
   ]
  },
  {
   "cell_type": "markdown",
   "metadata": {},
   "source": [
    "Integrate randomized data\n",
    "---"
   ]
  },
  {
   "cell_type": "code",
   "execution_count": 8,
   "metadata": {
    "collapsed": false,
    "scrolled": true
   },
   "outputs": [
    {
     "name": "stdout",
     "output_type": "stream",
     "text": [
      "0\n",
      "0 seconds\n",
      "100\n",
      "99 seconds\n",
      "200\n",
      "93 seconds\n",
      "300\n",
      "91 seconds\n",
      "400\n",
      "93 seconds\n",
      "500\n",
      "92 seconds\n",
      "600\n",
      "93 seconds\n",
      "700\n",
      "90 seconds\n",
      "800\n",
      "93 seconds\n",
      "900\n",
      "93 seconds\n",
      "0\n",
      "0 seconds\n",
      "100\n",
      "60 seconds\n",
      "200\n",
      "60 seconds\n",
      "300\n",
      "60 seconds\n",
      "400\n",
      "63 seconds\n",
      "500\n",
      "64 seconds\n",
      "600\n",
      "62 seconds\n",
      "700\n",
      "62 seconds\n",
      "800\n",
      "64 seconds\n",
      "900\n",
      "65 seconds\n",
      "0\n",
      "0 seconds\n",
      "100\n",
      "64 seconds\n",
      "200\n",
      "64 seconds\n",
      "300\n",
      "63 seconds\n",
      "400\n",
      "64 seconds\n",
      "500\n",
      "61 seconds\n",
      "600\n",
      "68 seconds\n",
      "700\n",
      "66 seconds\n",
      "800\n",
      "64 seconds\n",
      "900\n",
      "53 seconds\n",
      "0\n",
      "0 seconds\n",
      "100\n",
      "63 seconds\n",
      "200\n",
      "63 seconds\n",
      "300\n",
      "64 seconds\n",
      "400\n",
      "65 seconds\n",
      "500\n",
      "67 seconds\n",
      "600\n",
      "64 seconds\n",
      "700\n",
      "59 seconds\n",
      "800\n",
      "62 seconds\n",
      "900\n",
      "61 seconds\n",
      "0\n",
      "0 seconds\n",
      "100\n",
      "65 seconds\n",
      "200\n",
      "67 seconds\n",
      "300\n",
      "65 seconds\n",
      "400\n",
      "65 seconds\n",
      "500\n",
      "67 seconds\n",
      "600\n",
      "70 seconds\n",
      "700\n",
      "67 seconds\n",
      "800\n",
      "66 seconds\n",
      "900\n",
      "66 seconds\n"
     ]
    }
   ],
   "source": [
    "n_controls = n_randomizations\n",
    "\n",
    "output_citations = 'class_relatedness_networks_citations'\n",
    "output_cooccurrence = 'class_relatedness_networks_cooccurrence'\n",
    "combine_outputs = True\n",
    "\n",
    "cooccurrence_base_file_name = 'synthetic_control_cooccurrence_'+n_years_label+'%s_preserve_years_%s'\n",
    "\n",
    "for class_system in class_systems:\n",
    "    %run -i Calculating_Synthetic_Networks_Integrate_Runs.py"
   ]
  },
  {
   "cell_type": "markdown",
   "metadata": {},
   "source": [
    "Delete individual runs of randomized data\n",
    "---\n",
    "Keep the IPC runs for creating figures with histograms in the manuscript. They're also the smallest ones."
   ]
  },
  {
   "cell_type": "code",
   "execution_count": 49,
   "metadata": {
    "collapsed": true
   },
   "outputs": [],
   "source": [
    "from shutil import rmtree\n",
    "\n",
    "for class_system in class_systems:\n",
    "    if class_system == 'IPC':\n",
    "        continue\n",
    "    else:\n",
    "        rmtree(data_directory+'Class_Relatedness_Networks/citations/controls/'+class_system)\n",
    "        rmtree(data_directory+'Class_Relatedness_Networks/cooccurrence/controls/'+class_system)  "
   ]
  },
  {
   "cell_type": "markdown",
   "metadata": {},
   "source": [
    "Organize individual runs of IPC\n",
    "---"
   ]
  },
  {
   "cell_type": "code",
   "execution_count": null,
   "metadata": {
    "collapsed": true
   },
   "outputs": [],
   "source": [
    "class_relatedness_networks_controls_organized.h5"
   ]
  },
  {
   "cell_type": "markdown",
   "metadata": {},
   "source": [
    "Make randomized controls of IPC co-occurrence networks without preserving year-by-year structure\n",
    "==="
   ]
  },
  {
   "cell_type": "code",
   "execution_count": 54,
   "metadata": {
    "collapsed": false
   },
   "outputs": [],
   "source": [
    "class_system = 'IPC'\n",
    "preserve_years = False\n",
    "\n",
    "first_rand_id = 0\n",
    "n_randomizations = 10\n",
    "\n",
    "python_location = '/home/jeffrey_alstott/anaconda3/bin/python'\n",
    "from os import path\n",
    "abs_path_data_directory = path.abspath(data_directory)+'/'\n",
    "\n",
    "\n",
    "try_to_make_directory('jobfiles/')\n",
    "\n",
    "\n",
    "\n",
    "basic_program = open('Calculating_CoOccurrence_Networks.py', 'r').read()\n",
    "for entity in occurrence_entities.keys():\n",
    "    basic_program = open('Calculating_CoOccurrence_Networks.py', 'r').read()\n",
    "    job_type = 'cooccurrence'\n",
    "    for entity in occurrence_entities.keys():\n",
    "        occurrence_data, entity_data = occurrence_entities[entity]\n",
    "        options = \"\"\"class_system = %r\n",
    "target_years = %r\n",
    "n_years = %r\n",
    "data_directory = %r\n",
    "randomized_control = True\n",
    "preserve_years = False #This is the important difference\n",
    "chain = False\n",
    "occurrence_data = %r\n",
    "entity_data = %r\n",
    "entity_column = %r\n",
    "print(occurrence_data)\n",
    "print(entity_data)\n",
    "print(entity_column)\n",
    "\"\"\"%(class_system, target_years, n_years, abs_path_data_directory, occurrence_data, entity_data, entity)\n",
    "    \n",
    "        %run -i Calculating_Synthetic_Networks_Control_Commands"
   ]
  },
  {
   "cell_type": "code",
   "execution_count": 9,
   "metadata": {
    "collapsed": false
   },
   "outputs": [
    {
     "name": "stdout",
     "output_type": "stream",
     "text": [
      "0\n",
      "0 seconds\n",
      "0\n",
      "0 seconds\n",
      "0\n",
      "0 seconds\n",
      "0\n",
      "0 seconds\n",
      "No empirical data saved to calculate z-scores with\n"
     ]
    }
   ],
   "source": [
    "class_system = 'IPC'\n",
    "output_cooccurrence = 'class_relatedness_networks_cooccurrence_no_preserve_years'\n",
    "output_citations = False\n",
    "combine_outputs = False\n",
    "\n",
    "cooccurrence_base_file_name = 'synthetic_control_cooccurrence_'+n_years_label+'%s_no_preserve_years_%s'\n",
    "\n",
    "%run -i Calculating_Synthetic_Networks_Integrate_Runs.py"
   ]
  },
  {
   "cell_type": "markdown",
   "metadata": {},
   "source": [
    "Make figures\n",
    "==="
   ]
  },
  {
   "cell_type": "code",
   "execution_count": null,
   "metadata": {
    "collapsed": true
   },
   "outputs": [],
   "source": [
    "for class_system in class_systems:\n",
    "    %run -i Manuscript_Figures.py"
   ]
  }
 ],
 "metadata": {
  "css": [
   ""
  ],
  "kernelspec": {
   "display_name": "Python 3",
   "language": "python",
   "name": "python3"
  },
  "language_info": {
   "codemirror_mode": {
    "name": "ipython",
    "version": 3
   },
   "file_extension": ".py",
   "mimetype": "text/x-python",
   "name": "python",
   "nbconvert_exporter": "python",
   "pygments_lexer": "ipython3",
   "version": "3.4.3"
  }
 },
 "nbformat": 4,
 "nbformat_minor": 0
}
