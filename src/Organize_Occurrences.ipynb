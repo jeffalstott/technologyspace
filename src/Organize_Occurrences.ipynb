{
 "cells": [
  {
   "cell_type": "code",
   "execution_count": 1,
   "metadata": {
    "collapsed": false
   },
   "outputs": [
    {
     "name": "stdout",
     "output_type": "stream",
     "text": [
      "Populating the interactive namespace from numpy and matplotlib\n"
     ]
    }
   ],
   "source": [
    "import pandas as pd\n",
    "import seaborn as sns\n",
    "%pylab inline"
   ]
  },
  {
   "cell_type": "markdown",
   "metadata": {},
   "source": [
    "Import and Organize Data\n",
    "==="
   ]
  },
  {
   "cell_type": "code",
   "execution_count": 2,
   "metadata": {
    "collapsed": true
   },
   "outputs": [],
   "source": [
    "all_data = pd.read_csv(data_directory+'disamb_data_ipc_citations_2.csv')\n",
    "#                                 parse_dates=[7,8])"
   ]
  },
  {
   "cell_type": "code",
   "execution_count": 4,
   "metadata": {
    "collapsed": false
   },
   "outputs": [
    {
     "name": "stderr",
     "output_type": "stream",
     "text": [
      "/home/jeffrey_alstott/anaconda3/lib/python3.4/site-packages/pandas/core/frame.py:2524: SettingWithCopyWarning: \n",
      "A value is trying to be set on a copy of a slice from a DataFrame\n",
      "\n",
      "See the the caveats in the documentation: http://pandas.pydata.org/pandas-docs/stable/indexing.html#indexing-view-versus-copy\n",
      "  **kwargs)\n",
      "/home/jeffrey_alstott/anaconda3/lib/python3.4/site-packages/pandas/util/decorators.py:88: SettingWithCopyWarning: \n",
      "A value is trying to be set on a copy of a slice from a DataFrame\n",
      "\n",
      "See the the caveats in the documentation: http://pandas.pydata.org/pandas-docs/stable/indexing.html#indexing-view-versus-copy\n",
      "  return func(*args, **kwargs)\n"
     ]
    }
   ],
   "source": [
    "all_data = all_data[['PID',\n",
    "                      'INVENTOR_ID',\n",
    "                      'ASSIGNEE_ID',\n",
    "                      'COUNTRY',\n",
    "                      'IPC3',\n",
    "                     'IPC4',\n",
    "                      'GYEAR']]\n",
    "\n",
    "all_data.rename(columns={'INVENTOR_ID': 'Inventor',\n",
    "                         'ASSIGNEE_ID': 'Firm',\n",
    "                         'COUNTRY': 'Country',\n",
    "                         'IPC3': 'Class_IPC',\n",
    "                         'IPC4': 'Class_IPC4',                         \n",
    "                         'GYEAR': 'Year'\n",
    "                         },\n",
    "                inplace=True)\n",
    "\n",
    "\n",
    "all_data.drop_duplicates(inplace=True)"
   ]
  },
  {
   "cell_type": "markdown",
   "metadata": {},
   "source": [
    "Clean IPC classes"
   ]
  },
  {
   "cell_type": "code",
   "execution_count": 5,
   "metadata": {
    "collapsed": false
   },
   "outputs": [
    {
     "name": "stderr",
     "output_type": "stream",
     "text": [
      "/home/jeffrey_alstott/anaconda3/lib/python3.4/site-packages/IPython/kernel/__main__.py:5: SettingWithCopyWarning: \n",
      "A value is trying to be set on a copy of a slice from a DataFrame.\n",
      "Try using .loc[row_indexer,col_indexer] = value instead\n",
      "\n",
      "See the the caveats in the documentation: http://pandas.pydata.org/pandas-docs/stable/indexing.html#indexing-view-versus-copy\n"
     ]
    }
   ],
   "source": [
    "# IPC_classes = sort(all_data['Class_IPC'].unique())\n",
    "# IPC_class_lookup = pd.Series(index=IPC_classes,\n",
    "#                       data=arange(len(IPC_classes)))\n",
    "IPC_class_lookup = pd.read_hdf(data_directory+'class_lookup_tables.h5', 'IPC_class_lookup')\n",
    "all_data['Class_IPC'] = IPC_class_lookup.ix[all_data['Class_IPC']].values"
   ]
  },
  {
   "cell_type": "code",
   "execution_count": 6,
   "metadata": {
    "collapsed": false
   },
   "outputs": [
    {
     "name": "stderr",
     "output_type": "stream",
     "text": [
      "/home/jeffrey_alstott/anaconda3/lib/python3.4/site-packages/IPython/kernel/__main__.py:5: SettingWithCopyWarning: \n",
      "A value is trying to be set on a copy of a slice from a DataFrame.\n",
      "Try using .loc[row_indexer,col_indexer] = value instead\n",
      "\n",
      "See the the caveats in the documentation: http://pandas.pydata.org/pandas-docs/stable/indexing.html#indexing-view-versus-copy\n"
     ]
    }
   ],
   "source": [
    "# IPC4_classes = sort(all_data['Class_IPC4'].unique())\n",
    "# IPC4_class_lookup = pd.Series(index=IPC4_classes,\n",
    "#                       data=arange(len(IPC4_classes)))\n",
    "IPC4_class_lookup = pd.read_hdf(data_directory+'class_lookup_tables.h5', 'IPC4_class_lookup')\n",
    "all_data['Class_IPC4'] = IPC4_class_lookup.ix[all_data['Class_IPC4']].values"
   ]
  },
  {
   "cell_type": "markdown",
   "metadata": {},
   "source": [
    "Import USPC classes\n",
    "==="
   ]
  },
  {
   "cell_type": "code",
   "execution_count": 8,
   "metadata": {
    "collapsed": true
   },
   "outputs": [],
   "source": [
    "USPC_patent_attributes = pd.read_csv(data_directory+'PATENT_US_CLASS_SUBCLASSES_1975_2011.csv',\n",
    "                               header=None,\n",
    "                               names=['Patent', 'Class_USPC', 'Subclass_USPC'])\n",
    "\n",
    "USPC_patent_attributes.drop(['Subclass_USPC'], axis=1, inplace=True)\n",
    "\n",
    "#Hope that the first class associated with each patent is the \"main\" class\n",
    "USPC_patent_attributes.drop_duplicates([\"Patent\"], inplace=True) \n",
    "\n",
    "USPC_patent_attributes.set_index('Patent', inplace=True)\n",
    "USPC_patent_attributes.ix[:,'Class_USPC'] = USPC_patent_attributes['Class_USPC'].map(lambda x: x if type(x)==int else int(x) if x.isdigit() else nan)\n",
    "USPC_patent_attributes.dropna(inplace=True)\n",
    "\n",
    "\n",
    "### Convert the non-contiguous USPC classes to a contiguous numeric system, and store in the conversion in a lookup table\n",
    "# USPC_classes = sort(USPC_patent_attributes['Class_USPC'].unique())\n",
    "# USPC_class_lookup = pd.Series(index=USPC_classes,\n",
    "#                       data=arange(len(USPC_classes)))\n",
    "USPC_class_lookup = pd.read_hdf(data_directory+'class_lookup_tables.h5', 'USPC_class_lookup')\n",
    "USPC_patent_attributes['Class_USPC'] = USPC_class_lookup.ix[USPC_patent_attributes['Class_USPC']].values"
   ]
  },
  {
   "cell_type": "code",
   "execution_count": 9,
   "metadata": {
    "collapsed": false
   },
   "outputs": [
    {
     "name": "stderr",
     "output_type": "stream",
     "text": [
      "/home/jeffrey_alstott/anaconda3/lib/python3.4/site-packages/IPython/kernel/__main__.py:1: SettingWithCopyWarning: \n",
      "A value is trying to be set on a copy of a slice from a DataFrame.\n",
      "Try using .loc[row_indexer,col_indexer] = value instead\n",
      "\n",
      "See the the caveats in the documentation: http://pandas.pydata.org/pandas-docs/stable/indexing.html#indexing-view-versus-copy\n",
      "  if __name__ == '__main__':\n"
     ]
    }
   ],
   "source": [
    "all_data['Class_USPC'] = USPC_patent_attributes.ix[all_data['PID']].values"
   ]
  },
  {
   "cell_type": "markdown",
   "metadata": {},
   "source": [
    "Make entity lookup tables\n",
    "==="
   ]
  },
  {
   "cell_type": "code",
   "execution_count": 10,
   "metadata": {
    "collapsed": false
   },
   "outputs": [
    {
     "name": "stderr",
     "output_type": "stream",
     "text": [
      "/home/jeffrey_alstott/anaconda3/lib/python3.4/site-packages/IPython/kernel/__main__.py:5: SettingWithCopyWarning: \n",
      "A value is trying to be set on a copy of a slice from a DataFrame.\n",
      "Try using .loc[row_indexer,col_indexer] = value instead\n",
      "\n",
      "See the the caveats in the documentation: http://pandas.pydata.org/pandas-docs/stable/indexing.html#indexing-view-versus-copy\n"
     ]
    }
   ],
   "source": [
    "Inventors = sort(all_data['Inventor'].unique())\n",
    "Inventor_lookup = pd.Series(index=Inventors,\n",
    "                      data=arange(len(Inventors)))\n",
    "\n",
    "all_data['Inventor'] = Inventor_lookup.ix[all_data['Inventor']].values"
   ]
  },
  {
   "cell_type": "code",
   "execution_count": 11,
   "metadata": {
    "collapsed": false
   },
   "outputs": [
    {
     "name": "stderr",
     "output_type": "stream",
     "text": [
      "/home/jeffrey_alstott/anaconda3/lib/python3.4/site-packages/IPython/kernel/__main__.py:5: SettingWithCopyWarning: \n",
      "A value is trying to be set on a copy of a slice from a DataFrame.\n",
      "Try using .loc[row_indexer,col_indexer] = value instead\n",
      "\n",
      "See the the caveats in the documentation: http://pandas.pydata.org/pandas-docs/stable/indexing.html#indexing-view-versus-copy\n"
     ]
    }
   ],
   "source": [
    "Countries = sort(all_data['Country'].unique().astype('str'))\n",
    "Country_lookup = pd.Series(index=Countries,\n",
    "                      data=arange(len(Countries)))\n",
    "\n",
    "all_data['Country'] = Country_lookup.ix[all_data['Country'].astype('str')].values"
   ]
  },
  {
   "cell_type": "code",
   "execution_count": 12,
   "metadata": {
    "collapsed": false
   },
   "outputs": [
    {
     "name": "stderr",
     "output_type": "stream",
     "text": [
      "/home/jeffrey_alstott/anaconda3/lib/python3.4/site-packages/IPython/kernel/__main__.py:5: SettingWithCopyWarning: \n",
      "A value is trying to be set on a copy of a slice from a DataFrame.\n",
      "Try using .loc[row_indexer,col_indexer] = value instead\n",
      "\n",
      "See the the caveats in the documentation: http://pandas.pydata.org/pandas-docs/stable/indexing.html#indexing-view-versus-copy\n"
     ]
    }
   ],
   "source": [
    "Firms = sort(all_data['Firm'].unique())\n",
    "Firm_lookup = pd.Series(index=Firms,\n",
    "                      data=arange(len(Firms)))\n",
    "\n",
    "all_data['Firm'] = Firm_lookup.ix[all_data['Firm']].values"
   ]
  },
  {
   "cell_type": "markdown",
   "metadata": {},
   "source": [
    "Drop duplicates to create a table of entries\n",
    "==="
   ]
  },
  {
   "cell_type": "code",
   "execution_count": 13,
   "metadata": {
    "collapsed": false
   },
   "outputs": [
    {
     "name": "stderr",
     "output_type": "stream",
     "text": [
      "/home/jeffrey_alstott/anaconda3/lib/python3.4/site-packages/pandas/core/frame.py:2915: SettingWithCopyWarning: \n",
      "A value is trying to be set on a copy of a slice from a DataFrame\n",
      "\n",
      "See the the caveats in the documentation: http://pandas.pydata.org/pandas-docs/stable/indexing.html#indexing-view-versus-copy\n",
      "  inplace=inplace, kind=kind, na_position=na_position)\n"
     ]
    }
   ],
   "source": [
    "all_data.sort('Year', inplace=True)"
   ]
  },
  {
   "cell_type": "code",
   "execution_count": 14,
   "metadata": {
    "collapsed": true
   },
   "outputs": [],
   "source": [
    "entity_classes = {}\n",
    "for entity_type in ['Inventor', 'Firm', 'Country']:\n",
    "    for class_system in ['IPC', 'USPC', 'IPC4']:\n",
    "        df = all_data[[entity_type, \n",
    "                       'Class_'+class_system, \n",
    "                       'Year']].drop_duplicates([entity_type, \n",
    "                                                 'Class_'+class_system])\n",
    "        entity_classes[entity_type+'_'+class_system] = df"
   ]
  },
  {
   "cell_type": "markdown",
   "metadata": {},
   "source": [
    "Write Data\n",
    "==="
   ]
  },
  {
   "cell_type": "code",
   "execution_count": 18,
   "metadata": {
    "collapsed": true
   },
   "outputs": [],
   "source": [
    "store = pd.HDFStore(data_directory+'occurrences_organized.h5', mode='w', table=True)\n",
    "store.put('/IPC_class_lookup', IPC_class_lookup, 'table', append=False)\n",
    "store.put('/IPC4_class_lookup', IPC4_class_lookup, 'table', append=False)\n",
    "store.put('/USPC_class_lookup', USPC_class_lookup, 'table', append=False)\n",
    "store.put('/Inventor_lookup', Inventor_lookup, 'table', append=False)\n",
    "store.put('/Country_lookup', Country_lookup, 'table', append=False)\n",
    "store.put('/Firm_lookup', Firm_lookup, 'table', append=False)\n",
    "\n",
    "\n",
    "for k in entity_classes.keys():\n",
    "    print(\"Writing %s\"%k)\n",
    "    store.put('/entity_classes_'+k, entity_classes[k], append=False)\n",
    "store.close()"
   ]
  }
 ],
 "metadata": {
  "css": [
   ""
  ],
  "kernelspec": {
   "display_name": "Python 3",
   "language": "python",
   "name": "python3"
  },
  "language_info": {
   "codemirror_mode": {
    "name": "ipython",
    "version": 3
   },
   "file_extension": ".py",
   "mimetype": "text/x-python",
   "name": "python",
   "nbconvert_exporter": "python",
   "pygments_lexer": "ipython3",
   "version": "3.4.3"
  }
 },
 "nbformat": 4,
 "nbformat_minor": 0
}
