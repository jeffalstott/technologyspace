{
 "cells": [
  {
   "cell_type": "code",
   "execution_count": 2,
   "metadata": {
    "collapsed": false,
    "scrolled": true
   },
   "outputs": [],
   "source": [
    "import pandas as pd\n",
    "from pylab import *"
   ]
  },
  {
   "cell_type": "code",
   "execution_count": 3,
   "metadata": {
    "collapsed": true
   },
   "outputs": [],
   "source": [
    "# class_system = 'IPC'\n",
    "# n_controls = 1000\n",
    "# target_year = 2010"
   ]
  },
  {
   "cell_type": "code",
   "execution_count": 4,
   "metadata": {
    "collapsed": true
   },
   "outputs": [],
   "source": [
    "# n_years = 'cumulative'\n",
    "if n_years is None or n_years=='all' or n_years=='cumulative':\n",
    "    n_years_label = ''\n",
    "else:\n",
    "    n_years_label = '%i_years_'%n_years"
   ]
  },
  {
   "cell_type": "code",
   "execution_count": 5,
   "metadata": {
    "collapsed": true
   },
   "outputs": [],
   "source": [
    "# occurrence_entities = {'Firm': ('occurrences_organized.h5', 'entity_classes_Firm'),\n",
    "#                        'Inventor': ('occurrences_organized.h5', 'entity_classes_Inventor'),\n",
    "#                        'Country': ('occurrences_organized.h5', 'entity_classes_Country'),\n",
    "#                        'PID': ('classifications_organized.h5', 'patent_classes'),\n",
    "#                        }\n",
    "# entity_types = list(occurrence_entities.keys())"
   ]
  },
  {
   "cell_type": "code",
   "execution_count": 6,
   "metadata": {
    "collapsed": true
   },
   "outputs": [],
   "source": [
    "# cooccurrence_base_file_name = 'synthetic_control_cooccurrence_'+n_years_label+'%s_preserve_years_%s'\n",
    "citations_base_file_name = 'synthetic_control_citations_'+n_years_label+'%s'"
   ]
  },
  {
   "cell_type": "code",
   "execution_count": 7,
   "metadata": {
    "collapsed": false
   },
   "outputs": [],
   "source": [
    "# data_directory = '../data/'\n",
    "\n",
    "citations_controls_directory = data_directory+'Class_Relatedness_Networks/citations/controls/%s/'%class_system\n",
    "coocurrence_controls_directory = data_directory+'Class_Relatedness_Networks/cooccurrence/controls/%s/'%class_system"
   ]
  },
  {
   "cell_type": "code",
   "execution_count": 8,
   "metadata": {
    "collapsed": true
   },
   "outputs": [],
   "source": [
    "import gc\n",
    "from time import time"
   ]
  },
  {
   "cell_type": "code",
   "execution_count": 9,
   "metadata": {
    "collapsed": false
   },
   "outputs": [],
   "source": [
    "def organize_runs(df_name,\n",
    "                  file_name,\n",
    "                  controls_directory=citations_controls_directory,\n",
    "                  n_controls=n_controls,\n",
    "                  target_year=target_year,\n",
    "                  controls=None,\n",
    "                  multiple_metrics=True,\n",
    "                  target_metric=None\n",
    "                 ):    \n",
    "    t = time()\n",
    "    for randomization_id in range(n_controls):\n",
    "\n",
    "        if not randomization_id%100:\n",
    "            print(randomization_id)\n",
    "            print(\"%.0f seconds\"%(time()-t))\n",
    "            t = time()\n",
    "        \n",
    "        f = '%s_%i.h5'%(file_name, randomization_id)\n",
    "        try:\n",
    "            if multiple_metrics:\n",
    "                x = pd.read_hdf(controls_directory+f, df_name).ix[:,target_year]\n",
    "            else:\n",
    "                x = pd.read_hdf(controls_directory+f, df_name).ix[target_year]\n",
    "        except:\n",
    "            print(\"Data not loading for %s. Continuing.\"%f)\n",
    "            continue\n",
    "            \n",
    "\n",
    "        if controls is None:\n",
    "            controls = pd.Panel4D(labels=x.items, items=arange(n_controls),\n",
    "                                  major_axis=x.major_axis, minor_axis=x.minor_axis)\n",
    "        if multiple_metrics:\n",
    "            controls.ix[x.items, randomization_id] = x.values\n",
    "        else:\n",
    "            controls.ix[target_metric, randomization_id] = x\n",
    "            \n",
    "        gc.collect()  \n",
    "\n",
    "    return controls"
   ]
  },
  {
   "cell_type": "code",
   "execution_count": 10,
   "metadata": {
    "collapsed": false
   },
   "outputs": [
    {
     "name": "stdout",
     "output_type": "stream",
     "text": [
      "0\n",
      "0 seconds\n",
      "100\n",
      "9 seconds\n",
      "200\n",
      "11 seconds\n",
      "300\n",
      "7 seconds\n",
      "400\n",
      "22 seconds\n",
      "500\n",
      "16 seconds\n",
      "600\n",
      "20 seconds\n",
      "700\n",
      "9 seconds\n",
      "800\n",
      "9 seconds\n",
      "900\n",
      "7 seconds\n"
     ]
    }
   ],
   "source": [
    "controls = organize_runs('synthetic_citations_%s'%class_system,\n",
    "                         citations_base_file_name%class_system,\n",
    "                         citations_controls_directory,\n",
    "                         controls=None\n",
    "                        )"
   ]
  },
  {
   "cell_type": "code",
   "execution_count": 18,
   "metadata": {
    "collapsed": false
   },
   "outputs": [
    {
     "name": "stdout",
     "output_type": "stream",
     "text": [
      "0\n",
      "0 seconds\n",
      "100\n",
      "18 seconds\n",
      "200\n",
      "6 seconds\n",
      "300\n",
      "11 seconds\n",
      "400\n",
      "11 seconds\n",
      "500\n",
      "7 seconds\n",
      "600\n",
      "9 seconds\n",
      "700\n",
      "13 seconds\n",
      "800\n",
      "6 seconds\n",
      "900\n",
      "20 seconds\n",
      "0\n",
      "0 seconds\n",
      "100\n",
      "23 seconds\n",
      "200\n",
      "15 seconds\n",
      "300\n",
      "32 seconds\n",
      "400\n",
      "13 seconds\n",
      "500\n",
      "11 seconds\n",
      "600\n",
      "7 seconds\n",
      "700\n",
      "15 seconds\n",
      "800\n",
      "18 seconds\n",
      "900\n",
      "16 seconds\n",
      "0\n",
      "0 seconds\n",
      "100\n",
      "8 seconds\n",
      "200\n",
      "25 seconds\n",
      "300\n",
      "21 seconds\n",
      "400\n",
      "7 seconds\n",
      "500\n",
      "21 seconds\n",
      "600\n",
      "7 seconds\n",
      "700\n",
      "9 seconds\n",
      "800\n",
      "21 seconds\n",
      "900\n",
      "18 seconds\n",
      "0\n",
      "0 seconds\n",
      "100\n",
      "12 seconds\n",
      "200\n",
      "12 seconds\n",
      "300\n",
      "17 seconds\n",
      "400\n",
      "14 seconds\n",
      "500\n",
      "14 seconds\n",
      "600\n",
      "11 seconds\n",
      "700\n",
      "9 seconds\n",
      "800\n",
      "6 seconds\n",
      "900\n",
      "11 seconds\n"
     ]
    }
   ],
   "source": [
    "for entity in entity_types:\n",
    "    controls = organize_runs('synthetic_cooccurrence_%s_%s'%(entity, class_system),\n",
    "                             cooccurrence_base_file_name%(entity, class_system),\n",
    "                             coocurrence_controls_directory,\n",
    "                             controls=controls,\n",
    "                             multiple_metrics=False,\n",
    "                             target_metric='Class_CoOccurrence_Count_%s'%entity)\n",
    "        "
   ]
  },
  {
   "cell_type": "code",
   "execution_count": 20,
   "metadata": {
    "collapsed": true
   },
   "outputs": [],
   "source": [
    "store.close()"
   ]
  },
  {
   "cell_type": "code",
   "execution_count": 21,
   "metadata": {
    "collapsed": false
   },
   "outputs": [],
   "source": [
    "store = pd.HDFStore(data_directory+'Class_Relatedness_Networks/class_relatedness_networks_controls_organized_%s.h5'%class_system,\n",
    "                   mode='a', table=True)\n",
    "store.put('/controls_%s'%class_system, controls, 'table', append=False)\n",
    "store.close()"
   ]
  }
 ],
 "metadata": {
  "css": [
   ""
  ],
  "kernelspec": {
   "display_name": "Python 3",
   "language": "python",
   "name": "python3"
  },
  "language_info": {
   "codemirror_mode": {
    "name": "ipython",
    "version": 3
   },
   "file_extension": ".py",
   "mimetype": "text/x-python",
   "name": "python",
   "nbconvert_exporter": "python",
   "pygments_lexer": "ipython3",
   "version": "3.4.3"
  }
 },
 "nbformat": 4,
 "nbformat_minor": 0
}
